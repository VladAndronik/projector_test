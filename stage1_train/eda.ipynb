{
 "cells": [
  {
   "cell_type": "code",
   "execution_count": 129,
   "id": "9fe9d110",
   "metadata": {},
   "outputs": [],
   "source": [
    "import numpy as np\n",
    "import pandas as pd\n",
    "import matplotlib.pyplot as plt\n",
    "import seaborn as sns\n",
    "\n",
    "from nltk.corpus import stopwords\n",
    "import re\n",
    "\n",
    "from sklearn.feature_extraction.text import TfidfVectorizer\n",
    "from sklearn.linear_model import LinearRegression, LassoCV\n",
    "from sklearn.ensemble import RandomForestRegressor\n",
    "from sklearn.model_selection import train_test_split"
   ]
  },
  {
   "cell_type": "markdown",
   "id": "fbcc96fa",
   "metadata": {},
   "source": [
    "### Preprocess data"
   ]
  },
  {
   "cell_type": "code",
   "execution_count": 6,
   "id": "6c90dcc8",
   "metadata": {},
   "outputs": [],
   "source": [
    "data = pd.read_csv('data/train.csv')"
   ]
  },
  {
   "cell_type": "code",
   "execution_count": 13,
   "id": "cc7cf716",
   "metadata": {},
   "outputs": [],
   "source": [
    "REPLACE_BY_SPACE_RE = re.compile('[/(){}\\[\\]\\|@,;]')\n",
    "BAD_SYMBOLS_RE = re.compile('[^0-9a-z +_-]')\n",
    "STOPWORDS = stopwords.words('english')\n",
    "\n",
    "def text_prepare(text):\n",
    "    \"\"\"\n",
    "        text: a string\n",
    "        \n",
    "        return: modified initial string\n",
    "    \"\"\"\n",
    "    if pd.isna(text):\n",
    "        return ''\n",
    "    \n",
    "    text = text.strip().lower()\n",
    "    text = re.sub(REPLACE_BY_SPACE_RE, ' ', text)   # replace REPLACE_BY_SPACE_RE symbols by space in text\n",
    "    text = re.sub(BAD_SYMBOLS_RE, '', text)   # delete symbols which are in BAD_SYMBOLS_RE from text\n",
    "    text = re.sub('-', ' ', text)  # if there is defise split the words\n",
    "    text = ' '.join([s for s in text.split() if s not in STOPWORDS]) # delete stopwords from text\n",
    "    text = [token for token in text.split() if not token.isdigit()]  # remove digits\n",
    "    text = ' '.join([s for s in text])\n",
    "    \n",
    "    return text\n"
   ]
  },
  {
   "cell_type": "code",
   "execution_count": 15,
   "id": "d53ea15d",
   "metadata": {},
   "outputs": [],
   "source": [
    "num_words = data['excerpt'].apply(lambda x: len(x.split()))"
   ]
  },
  {
   "cell_type": "code",
   "execution_count": 17,
   "id": "fe55f61c",
   "metadata": {},
   "outputs": [
    {
     "data": {
      "text/plain": [
       "(172.98200423429782, 135, 205, 175.0)"
      ]
     },
     "execution_count": 17,
     "metadata": {},
     "output_type": "execute_result"
    }
   ],
   "source": [
    "np.mean(num_words), np.min(num_words), np.max(num_words), np.median(num_words)"
   ]
  },
  {
   "cell_type": "code",
   "execution_count": 23,
   "id": "8cd0e99c",
   "metadata": {},
   "outputs": [],
   "source": [
    "data['text_prepared'] = data['excerpt'].apply(text_prepare)"
   ]
  },
  {
   "cell_type": "code",
   "execution_count": 34,
   "id": "4a153a15",
   "metadata": {},
   "outputs": [],
   "source": [
    "words = [s for s in data['text_prepared']]\n",
    "words_un = set(' '.join(words).split())"
   ]
  },
  {
   "cell_type": "code",
   "execution_count": 44,
   "id": "c7ade35b",
   "metadata": {},
   "outputs": [
    {
     "data": {
      "text/plain": [
       "30674"
      ]
     },
     "execution_count": 44,
     "metadata": {},
     "output_type": "execute_result"
    }
   ],
   "source": [
    "len(words_un)"
   ]
  },
  {
   "cell_type": "code",
   "execution_count": 51,
   "id": "cdf321d1",
   "metadata": {},
   "outputs": [
    {
     "name": "stderr",
     "output_type": "stream",
     "text": [
      "/home/vladandronik/Documents/test_projector/venv/lib/python3.8/site-packages/seaborn/distributions.py:2619: FutureWarning: `distplot` is a deprecated function and will be removed in a future version. Please adapt your code to use either `displot` (a figure-level function with similar flexibility) or `histplot` (an axes-level function for histograms).\n",
      "  warnings.warn(msg, FutureWarning)\n"
     ]
    },
    {
     "data": {
      "text/plain": [
       "<AxesSubplot:xlabel='standard_error', ylabel='Density'>"
      ]
     },
     "execution_count": 51,
     "metadata": {},
     "output_type": "execute_result"
    },
    {
     "data": {
      "image/png": "[encoded data removed]",
      "text/plain": [
       "<Figure size 432x288 with 1 Axes>"
      ]
     },
     "metadata": {
      "needs_background": "light"
     },
     "output_type": "display_data"
    }
   ],
   "source": [
    "sns.distplot(data['standard_error'])"
   ]
  },
  {
   "cell_type": "code",
   "execution_count": 62,
   "id": "26504ed4",
   "metadata": {},
   "outputs": [],
   "source": [
    "# split into different categories by how hard to identify\n",
    "data['complexity'] = 0\n",
    "data.loc[(data['standard_error'] >= 0.45) & (data['standard_error'] < 0.55), 'complexity'] = 1\n",
    "data.loc[(data['standard_error'] >= 0.55), 'complexity'] = 2"
   ]
  },
  {
   "cell_type": "code",
   "execution_count": 64,
   "id": "170bb60e",
   "metadata": {},
   "outputs": [
    {
     "data": {
      "text/plain": [
       "1    2513\n",
       "2     182\n",
       "0     139\n",
       "Name: complexity, dtype: int64"
      ]
     },
     "execution_count": 64,
     "metadata": {},
     "output_type": "execute_result"
    }
   ],
   "source": [
    "data['complexity'].value_counts()"
   ]
  },
  {
   "cell_type": "markdown",
   "id": "67265d1c",
   "metadata": {},
   "source": [
    "### Split"
   ]
  },
  {
   "cell_type": "code",
   "execution_count": 63,
   "id": "59f64b21",
   "metadata": {},
   "outputs": [],
   "source": [
    "train, val = train_test_split(data, test_size=.1, stratify=data['complexity'], random_state=17)"
   ]
  },
  {
   "cell_type": "code",
   "execution_count": 106,
   "id": "f4ce3241",
   "metadata": {},
   "outputs": [],
   "source": [
    "X_train = [t for t in train['text_prepared']]\n",
    "X_val = [t for t in val['text_prepared']]\n",
    "\n",
    "y_train = train['target'].values\n",
    "y_val = val['target'].values"
   ]
  },
  {
   "cell_type": "code",
   "execution_count": 107,
   "id": "93087cdb",
   "metadata": {},
   "outputs": [],
   "source": [
    "tfidf_vectorizer = TfidfVectorizer(min_df = 3, max_df = .9, ngram_range=(1, 2), token_pattern='\\S+')"
   ]
  },
  {
   "cell_type": "code",
   "execution_count": 108,
   "id": "be8904fd",
   "metadata": {},
   "outputs": [
    {
     "name": "stdout",
     "output_type": "stream",
     "text": [
      "CPU times: user 372 ms, sys: 0 ns, total: 372 ms\n",
      "Wall time: 370 ms\n"
     ]
    }
   ],
   "source": [
    "%%time\n",
    "X_train = tfidf_vectorizer.fit_transform(X_train)\n",
    "X_val = tfidf_vectorizer.transform(X_val)"
   ]
  },
  {
   "cell_type": "code",
   "execution_count": 110,
   "id": "5241aff0",
   "metadata": {},
   "outputs": [
    {
     "data": {
      "text/plain": [
       "((2550, 12682), (284, 12682))"
      ]
     },
     "execution_count": 110,
     "metadata": {},
     "output_type": "execute_result"
    }
   ],
   "source": [
    "X_train.shape, X_val.shape"
   ]
  },
  {
   "cell_type": "markdown",
   "id": "bcaad775",
   "metadata": {},
   "source": [
    "### Predict"
   ]
  },
  {
   "cell_type": "code",
   "execution_count": 123,
   "id": "a7454e46",
   "metadata": {},
   "outputs": [],
   "source": [
    "model = LassoCV(cv=3, random_state=17, n_jobs=3)"
   ]
  },
  {
   "cell_type": "code",
   "execution_count": 124,
   "id": "f747a662",
   "metadata": {},
   "outputs": [
    {
     "name": "stdout",
     "output_type": "stream",
     "text": [
      "CPU times: user 3 µs, sys: 3 µs, total: 6 µs\n",
      "Wall time: 13.8 µs\n"
     ]
    },
    {
     "data": {
      "text/html": [
       "<style>#sk-container-id-4 {color: black;background-color: white;}#sk-container-id-4 pre{padding: 0;}#sk-container-id-4 div.sk-toggleable {background-color: white;}#sk-container-id-4 label.sk-toggleable__label {cursor: pointer;display: block;width: 100%;margin-bottom: 0;padding: 0.3em;box-sizing: border-box;text-align: center;}#sk-container-id-4 label.sk-toggleable__label-arrow:before {content: \"▸\";float: left;margin-right: 0.25em;color: #696969;}#sk-container-id-4 label.sk-toggleable__label-arrow:hover:before {color: black;}#sk-container-id-4 div.sk-estimator:hover label.sk-toggleable__label-arrow:before {color: black;}#sk-container-id-4 div.sk-toggleable__content {max-height: 0;max-width: 0;overflow: hidden;text-align: left;background-color: #f0f8ff;}#sk-container-id-4 div.sk-toggleable__content pre {margin: 0.2em;color: black;border-radius: 0.25em;background-color: #f0f8ff;}#sk-container-id-4 input.sk-toggleable__control:checked~div.sk-toggleable__content {max-height: 200px;max-width: 100%;overflow: auto;}#sk-container-id-4 input.sk-toggleable__control:checked~label.sk-toggleable__label-arrow:before {content: \"▾\";}#sk-container-id-4 div.sk-estimator input.sk-toggleable__control:checked~label.sk-toggleable__label {background-color: #d4ebff;}#sk-container-id-4 div.sk-label input.sk-toggleable__control:checked~label.sk-toggleable__label {background-color: #d4ebff;}#sk-container-id-4 input.sk-hidden--visually {border: 0;clip: rect(1px 1px 1px 1px);clip: rect(1px, 1px, 1px, 1px);height: 1px;margin: -1px;overflow: hidden;padding: 0;position: absolute;width: 1px;}#sk-container-id-4 div.sk-estimator {font-family: monospace;background-color: #f0f8ff;border: 1px dotted black;border-radius: 0.25em;box-sizing: border-box;margin-bottom: 0.5em;}#sk-container-id-4 div.sk-estimator:hover {background-color: #d4ebff;}#sk-container-id-4 div.sk-parallel-item::after {content: \"\";width: 100%;border-bottom: 1px solid gray;flex-grow: 1;}#sk-container-id-4 div.sk-label:hover label.sk-toggleable__label {background-color: #d4ebff;}#sk-container-id-4 div.sk-serial::before {content: \"\";position: absolute;border-left: 1px solid gray;box-sizing: border-box;top: 0;bottom: 0;left: 50%;z-index: 0;}#sk-container-id-4 div.sk-serial {display: flex;flex-direction: column;align-items: center;background-color: white;padding-right: 0.2em;padding-left: 0.2em;position: relative;}#sk-container-id-4 div.sk-item {position: relative;z-index: 1;}#sk-container-id-4 div.sk-parallel {display: flex;align-items: stretch;justify-content: center;background-color: white;position: relative;}#sk-container-id-4 div.sk-item::before, #sk-container-id-4 div.sk-parallel-item::before {content: \"\";position: absolute;border-left: 1px solid gray;box-sizing: border-box;top: 0;bottom: 0;left: 50%;z-index: -1;}#sk-container-id-4 div.sk-parallel-item {display: flex;flex-direction: column;z-index: 1;position: relative;background-color: white;}#sk-container-id-4 div.sk-parallel-item:first-child::after {align-self: flex-end;width: 50%;}#sk-container-id-4 div.sk-parallel-item:last-child::after {align-self: flex-start;width: 50%;}#sk-container-id-4 div.sk-parallel-item:only-child::after {width: 0;}#sk-container-id-4 div.sk-dashed-wrapped {border: 1px dashed gray;margin: 0 0.4em 0.5em 0.4em;box-sizing: border-box;padding-bottom: 0.4em;background-color: white;}#sk-container-id-4 div.sk-label label {font-family: monospace;font-weight: bold;display: inline-block;line-height: 1.2em;}#sk-container-id-4 div.sk-label-container {text-align: center;}#sk-container-id-4 div.sk-container {/* jupyter's `normalize.less` sets `[hidden] { display: none; }` but bootstrap.min.css set `[hidden] { display: none !important; }` so we also need the `!important` here to be able to override the default hidden behavior on the sphinx rendered scikit-learn.org. See: https://github.com/scikit-learn/scikit-learn/issues/21755 */display: inline-block !important;position: relative;}#sk-container-id-4 div.sk-text-repr-fallback {display: none;}</style><div id=\"sk-container-id-4\" class=\"sk-top-container\"><div class=\"sk-text-repr-fallback\"><pre>RandomForestRegressor(n_jobs=3, random_state=17)</pre><b>In a Jupyter environment, please rerun this cell to show the HTML representation or trust the notebook. <br />On GitHub, the HTML representation is unable to render, please try loading this page with nbviewer.org.</b></div><div class=\"sk-container\" hidden><div class=\"sk-item\"><div class=\"sk-estimator sk-toggleable\"><input class=\"sk-toggleable__control sk-hidden--visually\" id=\"sk-estimator-id-4\" type=\"checkbox\" checked><label for=\"sk-estimator-id-4\" class=\"sk-toggleable__label sk-toggleable__label-arrow\">RandomForestRegressor</label><div class=\"sk-toggleable__content\"><pre>RandomForestRegressor(n_jobs=3, random_state=17)</pre></div></div></div></div></div>"
      ],
      "text/plain": [
       "RandomForestRegressor(n_jobs=3, random_state=17)"
      ]
     },
     "execution_count": 124,
     "metadata": {},
     "output_type": "execute_result"
    }
   ],
   "source": [
    "%time\n",
    "model.fit(X_train, y_train)"
   ]
  },
  {
   "cell_type": "code",
   "execution_count": 125,
   "id": "9d5cea3d",
   "metadata": {},
   "outputs": [],
   "source": [
    "y_pred = model.predict(X_val)"
   ]
  },
  {
   "cell_type": "code",
   "execution_count": 126,
   "id": "08df9baa",
   "metadata": {},
   "outputs": [],
   "source": [
    "from sklearn.metrics import mean_squared_error"
   ]
  },
  {
   "cell_type": "code",
   "execution_count": 127,
   "id": "2da9df4c",
   "metadata": {},
   "outputs": [
    {
     "data": {
      "text/plain": [
       "0.8692870239006549"
      ]
     },
     "execution_count": 127,
     "metadata": {},
     "output_type": "execute_result"
    }
   ],
   "source": [
    "np.sqrt(mean_squared_error(y_pred, y_val))"
   ]
  },
  {
   "cell_type": "code",
   "execution_count": 121,
   "id": "59627e2b",
   "metadata": {},
   "outputs": [
    {
     "data": {
      "text/plain": [
       "['lasso_cv3.joblib']"
      ]
     },
     "execution_count": 121,
     "metadata": {},
     "output_type": "execute_result"
    }
   ],
   "source": [
    "# from joblib import dump, load\n",
    "# dump(model, 'lasso_cv3.joblib') "
   ]
  },
  {
   "cell_type": "code",
   "execution_count": 128,
   "id": "28c22791",
   "metadata": {},
   "outputs": [],
   "source": [
    "# scores:\n",
    "# linear_regression: 0.8904\n",
    "# lassocv: 0.8356\n",
    "# randomforest: 0.8692"
   ]
  },
  {
   "cell_type": "markdown",
   "id": "655f7464",
   "metadata": {},
   "source": [
    "### Using all data"
   ]
  },
  {
   "cell_type": "code",
   "execution_count": 147,
   "id": "f35d9131",
   "metadata": {},
   "outputs": [],
   "source": [
    "test = pd.read_csv('data/test.csv')"
   ]
  },
  {
   "cell_type": "code",
   "execution_count": 148,
   "id": "89d2131e",
   "metadata": {},
   "outputs": [],
   "source": [
    "test['text_prepared'] = test['excerpt'].apply(text_prepare)\n",
    "X_test = [s for s in test['text_prepared']]"
   ]
  },
  {
   "cell_type": "code",
   "execution_count": 149,
   "id": "b0001b1e",
   "metadata": {},
   "outputs": [],
   "source": [
    "X_train = [t for t in data['text_prepared']]\n",
    "y_train = data['target'].values"
   ]
  },
  {
   "cell_type": "code",
   "execution_count": 150,
   "id": "268b94a3",
   "metadata": {},
   "outputs": [
    {
     "name": "stdout",
     "output_type": "stream",
     "text": [
      "CPU times: user 409 ms, sys: 3.7 ms, total: 413 ms\n",
      "Wall time: 412 ms\n"
     ]
    }
   ],
   "source": [
    "%%time\n",
    "tfidf_vectorizer = TfidfVectorizer(min_df = 3, max_df = .9, ngram_range=(1, 2), token_pattern='\\S+')\n",
    "X_train = tfidf_vectorizer.fit_transform(X_train)\n",
    "X_test = tfidf_vectorizer.transform(X_test)"
   ]
  },
  {
   "cell_type": "code",
   "execution_count": 151,
   "id": "af0217d8",
   "metadata": {},
   "outputs": [
    {
     "name": "stdout",
     "output_type": "stream",
     "text": [
      "CPU times: user 9min 24s, sys: 11min 43s, total: 21min 8s\n",
      "Wall time: 2min 50s\n"
     ]
    }
   ],
   "source": [
    "%%time\n",
    "model = LassoCV(cv=3, random_state=17, n_jobs=3).fit(X_train, y_train)"
   ]
  },
  {
   "cell_type": "code",
   "execution_count": 154,
   "id": "85bcf70f",
   "metadata": {},
   "outputs": [],
   "source": [
    "y_pred = model.predict(X_test)"
   ]
  },
  {
   "cell_type": "code",
   "execution_count": 155,
   "id": "2c0b3a6f",
   "metadata": {},
   "outputs": [
    {
     "data": {
      "text/plain": [
       "['lasso_cv3_alldata.joblib']"
      ]
     },
     "execution_count": 155,
     "metadata": {},
     "output_type": "execute_result"
    }
   ],
   "source": [
    "dump(model, 'lasso_cv3_alldata.joblib')"
   ]
  }
 ],
 "metadata": {
  "kernelspec": {
   "display_name": "Python 3 (ipykernel)",
   "language": "python",
   "name": "python3"
  },
  "language_info": {
   "codemirror_mode": {
    "name": "ipython",
    "version": 3
   },
   "file_extension": ".py",
   "mimetype": "text/x-python",
   "name": "python",
   "nbconvert_exporter": "python",
   "pygments_lexer": "ipython3",
   "version": "3.8.3"
  }
 },
 "nbformat": 4,
 "nbformat_minor": 5
}
